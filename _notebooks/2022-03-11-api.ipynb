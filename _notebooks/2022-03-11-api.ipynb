
import requests

url = "https://wordle-today.p.rapidapi.com/today"

headers = {
	"X-RapidAPI-Key": "2d79bbde22mshed34d34c65d8472p1365cejsn7594c6e54840",
	"X-RapidAPI-Host": "wordle-today.p.rapidapi.com"
}

response = requests.request("GET", url, headers=headers)

print(response.text)
word = response.json().get('data')
for words in wordle:
  if words["word"] == "correct_word":
    print("correct")
else:
  print("Wrong")
